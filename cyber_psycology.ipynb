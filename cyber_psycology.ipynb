{
 "cells": [
  {
   "cell_type": "code",
   "execution_count": 141,
   "metadata": {},
   "outputs": [],
   "source": [
    "import numpy as np\n",
    "import pandas as pd"
   ]
  },
  {
   "cell_type": "code",
   "execution_count": 142,
   "metadata": {},
   "outputs": [
    {
     "name": "stdout",
     "output_type": "stream",
     "text": [
      "                              樣本編號                 研究編號  \\\n",
      "0  同一研究有多個樣本（如，跨國盛行率比較），每個樣本都需分別編號  同一研究的多個樣本均使用同一個研究編號   \n",
      "1                               No                Study   \n",
      "2                                1                    1   \n",
      "3                                2                    2   \n",
      "4                                3                    3   \n",
      "\n",
      "                                作者  發表年份     資料收集年份  \\\n",
      "0  第一作者 (僅保留第一作者的\"姓氏 [last name]\")    年份     資料收集年份   \n",
      "1                          Authors  PubY      DataY   \n",
      "2                               Ak  2013    unknown   \n",
      "3                  Lopez-Fernandez  2013    unknown   \n",
      "4             Durkee et al. (2012)  2012  2009-2010   \n",
      "\n",
      "                                         成癮類型  \\\n",
      "0  1 = 網路成癮\\n2 = 網路遊戲成癮\\n3 = 手機成癮\\n9 = 兩種以上成癮   \n",
      "1                                  AddictType   \n",
      "2                                           1   \n",
      "3                                           1   \n",
      "4                                           1   \n",
      "\n",
      "                                        樣本類型     樣本人數     符合診斷人數  \\\n",
      "0  0 = 總人數\\n1 = 網路使用者\\n2 = 網路遊戲玩家\\n3 = 手機使用者     樣本人數  符合成癮診斷的人數   \n",
      "1                                 SampleType  SampleN      CaseN   \n",
      "2                                          0     4311        NaN   \n",
      "3                                          0     1131        NaN   \n",
      "4                                          0      943        NaN   \n",
      "\n",
      "                                                研究對象     ...      \\\n",
      "0                                               研究對象     ...       \n",
      "1                                            Subject     ...       \n",
      "2                               high school students     ...       \n",
      "3  high school students  (50.1 percent younger ad...     ...       \n",
      "4                                        adolescents     ...       \n",
      "\n",
      "                               測量工具題數                 依據診斷準則  \\\n",
      "0  需注意同一測量工具的不同題數版本，如，IAT常用的有10題與20題版  使用的工具依據何種診斷準則（綁定測量工具）   \n",
      "1                               Items               Criteria   \n",
      "2                                  20  IAT author guidelines   \n",
      "3                                  30              DSM-IV-TR   \n",
      "4                                   8                 DSM-IV   \n",
      "\n",
      "                      切分點                                     診斷需觀察時間  \\\n",
      "0  同一個測量工具，不同研究者可能採用不同切分點  診斷需觀察時間(以月為單位)。如，根據您過去xx月以來的情況填答（通常綁定測量工具）   \n",
      "1                  Cutoff                                    Duration   \n",
      "2                      60                                          12   \n",
      "3                     152                                          12   \n",
      "4                       5                                           6   \n",
      "\n",
      "    是否使用結構式診斷會談                                          不適合的文獻  \\\n",
      "0  0 = 否\\n1 = 是  0 = 納入分析\\n1 = 非盛行率研究樣本\\n2 = 沒有適切的盛行率\\n3 = 樣本重複   \n",
      "1     Interview                                       Exclusion   \n",
      "2             0                                               0   \n",
      "3             0                                               0   \n",
      "4             0                                               0   \n",
      "\n",
      "                                                參考文獻 Unnamed: 25 Unnamed: 26  \\\n",
      "0                                      統一格式從PubMed貼上         NaN         NaN   \n",
      "1                                          Reference         NaN         NaN   \n",
      "2  Ak, Ş., Koruklu, N., & Yılmaz, Y. (2013). A st...         NaN         NaN   \n",
      "3  Lopez-Fernandez, O., Freixa-Blanxart, M., & Ho...         NaN         NaN   \n",
      "4  Durkee, T., Kaess, M., Carli, V., Parzer, P., ...         NaN         NaN   \n",
      "\n",
      "  Unnamed: 27  \n",
      "0         NaN  \n",
      "1         NaN  \n",
      "2         NaN  \n",
      "3         NaN  \n",
      "4         NaN  \n",
      "\n",
      "[5 rows x 28 columns]\n"
     ]
    }
   ],
   "source": [
    "data=pd.read_excel(\"/Users/tyllersun/Desktop/data_science/cyper_psycology.xlsx\")\n",
    "data=pd.DataFrame(data)\n",
    "print(data.head())"
   ]
  },
  {
   "cell_type": "code",
   "execution_count": 143,
   "metadata": {},
   "outputs": [
    {
     "name": "stdout",
     "output_type": "stream",
     "text": [
      "0    1 = 網路成癮\\n2 = 網路遊戲成癮\\n3 = 手機成癮\\n9 = 兩種以上成癮\n",
      "1                                    AddictType\n",
      "2                                             1\n",
      "3                                             1\n",
      "4                                             1\n",
      "Name: 成癮類型, dtype: object\n"
     ]
    }
   ],
   "source": [
    "print(data[\"成癮類型\"].head())"
   ]
  },
  {
   "cell_type": "code",
   "execution_count": 144,
   "metadata": {},
   "outputs": [
    {
     "name": "stdout",
     "output_type": "stream",
     "text": [
      "成癮類型\n",
      "1                                             150\n",
      "2                                              27\n",
      "3                                              12\n",
      "9                                               9\n",
      "1 = 網路成癮\\n2 = 網路遊戲成癮\\n3 = 手機成癮\\n9 = 兩種以上成癮      1\n",
      "AddictType                                      1\n",
      "Name: 樣本編號, dtype: int64\n",
      "9\n"
     ]
    }
   ],
   "source": [
    "a=dict()\n",
    "addition_count=data.groupby(\"成癮類型\").count()[\"樣本編號\"]\n",
    "print(addition_count)\n",
    "print(addition_count[9])\n",
    "a[\"cyber addition\"]=addition_count[1]\n",
    "a[\"online game addition\"]=addition_count[2]\n",
    "a[\"cellphone addition\"]=addition_count[3]\n",
    "a[\"more than two addition\"]=addition_count[9]"
   ]
  },
  {
   "cell_type": "code",
   "execution_count": 145,
   "metadata": {},
   "outputs": [
    {
     "data": {
      "image/png": "[encoded data removed]",
      "text/plain": [
       "<Figure size 432x288 with 1 Axes>"
      ]
     },
     "metadata": {},
     "output_type": "display_data"
    }
   ],
   "source": [
    "import matplotlib.pyplot as plt\n",
    "#plt.bar(x,y,width = 0.35,align='center',color = 'c',alpha=0.8)\n",
    "#xticks1=list(a.values())\n",
    "plt.bar(list(a.keys()), a.values(),width=0.15,align=\"center\", color='g',alpha=0.8)\n",
    "plt.title(\"bar chart\")\n",
    "plt.xlabel('addition type')\n",
    "plt.ylabel(\"amount of people\")\n",
    "for c,b in zip(a.keys(),a.values()):\n",
    "    plt.text(c, b+0.05, '%.0f' % b, ha='center', va= 'bottom',fontsize=10)\n",
    "plt.show()\n"
   ]
  },
  {
   "cell_type": "code",
   "execution_count": 146,
   "metadata": {},
   "outputs": [
    {
     "name": "stdout",
     "output_type": "stream",
     "text": [
      "2         0.464\n",
      "3         0.535\n",
      "4        0.3701\n",
      "5        0.4594\n",
      "6         0.317\n",
      "7        0.4778\n",
      "8      0.411706\n",
      "9       0.54358\n",
      "10     0.793901\n",
      "11     0.319865\n",
      "12      0.34507\n",
      "13     0.296392\n",
      "14     0.516602\n",
      "15        0.496\n",
      "16        0.522\n",
      "17        0.443\n",
      "18        0.596\n",
      "19       0.5004\n",
      "20        0.548\n",
      "21        0.487\n",
      "22       0.4758\n",
      "23       0.4522\n",
      "24          0.6\n",
      "25        0.464\n",
      "26         0.46\n",
      "27        0.518\n",
      "28       0.4259\n",
      "29       0.5721\n",
      "30        0.677\n",
      "31       0.6818\n",
      "         ...   \n",
      "144        0.55\n",
      "145       0.536\n",
      "146       0.457\n",
      "147        0.48\n",
      "148       0.483\n",
      "149       0.499\n",
      "150        0.48\n",
      "163        0.51\n",
      "164      0.4982\n",
      "165       0.433\n",
      "166       0.131\n",
      "167       0.506\n",
      "168        0.94\n",
      "170      0.4614\n",
      "173      0.4207\n",
      "175      0.4207\n",
      "176       0.699\n",
      "177       0.431\n",
      "180      0.4922\n",
      "181       0.464\n",
      "182        0.39\n",
      "183       0.485\n",
      "184       0.492\n",
      "186       0.496\n",
      "189      0.4931\n",
      "190       0.461\n",
      "197       0.547\n",
      "199       0.299\n",
      "200       0.438\n",
      "201       0.558\n",
      "Name: 男性比例, Length: 144, dtype: object 2        0.05\n",
      "3        0.05\n",
      "4       0.031\n",
      "5       0.053\n",
      "6       0.026\n",
      "7       0.048\n",
      "8       0.016\n",
      "9       0.038\n",
      "10      0.118\n",
      "11      0.012\n",
      "12      0.046\n",
      "13      0.058\n",
      "14      0.043\n",
      "15      0.088\n",
      "16      0.264\n",
      "17     0.0079\n",
      "18      0.097\n",
      "19      0.161\n",
      "20      0.069\n",
      "21      0.122\n",
      "22      0.153\n",
      "23       0.04\n",
      "24      0.012\n",
      "25       0.12\n",
      "26       0.04\n",
      "27      0.052\n",
      "28      0.046\n",
      "29      0.067\n",
      "30      0.179\n",
      "31     0.0644\n",
      "        ...  \n",
      "144     0.163\n",
      "145      0.16\n",
      "146     0.157\n",
      "147     0.048\n",
      "148     0.298\n",
      "149     0.063\n",
      "150    0.1215\n",
      "163    0.0819\n",
      "164      0.02\n",
      "165     0.047\n",
      "166     0.093\n",
      "167    0.0588\n",
      "168     0.079\n",
      "170     0.213\n",
      "173     0.055\n",
      "175     0.055\n",
      "176      0.04\n",
      "177     0.177\n",
      "180     0.038\n",
      "181     0.104\n",
      "182     0.212\n",
      "183     0.254\n",
      "184     0.155\n",
      "186     0.019\n",
      "189     0.177\n",
      "190     0.089\n",
      "197     0.141\n",
      "199     0.047\n",
      "200      0.96\n",
      "201     0.083\n",
      "Name: 盛行率, Length: 144, dtype: object\n",
      "[0.  0.1 0.2 0.3 0.4 0.5 0.6 0.7 0.8 0.9 1. ]\n"
     ]
    },
    {
     "data": {
      "image/png": "[encoded data removed]",
      "text/plain": [
       "<Figure size 432x288 with 1 Axes>"
      ]
     },
     "metadata": {},
     "output_type": "display_data"
    }
   ],
   "source": [
    "\n",
    "def delete_data(a,b):\n",
    "    for i in range(len(a)):\n",
    "        if a[i]==0 or b[i]==0:\n",
    "            del a[i]\n",
    "            del b[i]\n",
    "    return a,b\n",
    "\n",
    "def whole_number(a):\n",
    "    number=\"\"\n",
    "    for i in range(len(a)):\n",
    "        number=number+str(a[i])\n",
    "    #print(number)\n",
    "    try:\n",
    "        number=float(number)\n",
    "    except:\n",
    "        return 0\n",
    "    if number>=1:\n",
    "        number=0\n",
    "    #print(number)\n",
    "    return number\n",
    "\n",
    "for i in range(len(data[\"男性比例\"])):\n",
    "    data[\"男性比例\"][i]=str(data[\"男性比例\"][i]).split(\"%\")[0]\n",
    "    data[\"男性比例\"][i]=filter(lambda ch: ch in '0123456789.',data[\"男性比例\"][i])\n",
    "    #print(i)\n",
    "    data[\"男性比例\"][i]=whole_number(list(data[\"男性比例\"][i]))\n",
    "#print(data[\"男性比例\"])\n",
    "for i in range(len(data[\"盛行率\"])):\n",
    "    data[\"盛行率\"][i]=str(data[\"盛行率\"][i]).split(\"%\")[0]\n",
    "    data[\"盛行率\"][i]=filter(lambda ch: ch in '0123456789.',data[\"盛行率\"][i])\n",
    "    data[\"盛行率\"][i]=whole_number(list(data[\"盛行率\"][i]))\n",
    "#print(data[\"盛行率\"])\n",
    "a,b=delete_data(data[\"男性比例\"],data[\"盛行率\"])\n",
    "print(a,b)\n",
    "new_ticks = np.linspace(0,1,11)\n",
    "print(new_ticks)\n",
    "plt.xticks(new_ticks)\n",
    "plt.yticks(new_ticks)\n",
    "plt.scatter(a,b, s=75, alpha=.5)\n",
    "plt.show()\n",
    "data=pd.read_excel(\"/Users/tyllersun/Desktop/data_science/cyper_psycology.xlsx\")\n",
    "data=pd.DataFrame(data)\n"
   ]
  },
  {
   "cell_type": "code",
   "execution_count": 185,
   "metadata": {},
   "outputs": [
    {
     "name": "stdout",
     "output_type": "stream",
     "text": [
      "                                                         盛行率\n",
      "研究進行區域                                                      \n",
      "1 = Asia (含紐西蘭、澳洲)\\n2 = Middle East\\n3 = Europe...  0.000000\n",
      "African                                             0.033000\n",
      "Asia                                                0.113902\n",
      "Australia                                           0.046000\n",
      "Europe                                              0.068079\n",
      "Location                                            0.000000\n",
      "Middle East                                         0.148450\n",
      "Multi countries                                     0.000000\n",
      "North America                                       0.086667\n",
      "Two continents                                      0.031000\n"
     ]
    }
   ],
   "source": [
    "def whole_number(a):\n",
    "    number=\"\"\n",
    "    for i in range(len(a)):\n",
    "        number=number+str(a[i])\n",
    "    #print(number)\n",
    "    try:\n",
    "        number=float(number)\n",
    "    except:\n",
    "        return 0\n",
    "    if number>=1:\n",
    "        number=0\n",
    "    #print(number)\n",
    "    return number\n",
    "area=dict()\n",
    "for i in range(len(data[\"盛行率\"])):\n",
    "    data[\"盛行率\"][i]=str(data[\"盛行率\"][i]).split(\"%\")[0]\n",
    "    data[\"盛行率\"][i]=filter(lambda ch: ch in '0123456789.',data[\"盛行率\"][i])\n",
    "    data[\"盛行率\"][i]=whole_number(list(data[\"盛行率\"][i]))\n",
    "    #print(type(data[\"盛行率\"][i]))\n",
    "area_count=data.groupby(\"研究進行區域\")[\"盛行率\"].sum()/data.groupby(\"研究進行區域\")[\"盛行率\"].count()\n",
    "#print(area_count)\n",
    "area_count=pd.DataFrame(area_count)\n",
    "print(area_count)\n",
    "area[\"African\"]=area_count[\"盛行率\"][1]\n",
    "area[\"Asia\"]=area_count[\"盛行率\"][2]\n",
    "area[\"Austalia\"]=area_count[\"盛行率\"][3]\n",
    "area[\"Europe\"]=area_count[\"盛行率\"][4]\n",
    "area[\"Middle East\"]=area_count[\"盛行率\"][6]\n",
    "area[\"North America\"]=area_count[\"盛行率\"][8]\n",
    "area[\"Two continents\"]=area_count[\"盛行率\"][9]"
   ]
  },
  {
   "cell_type": "code",
   "execution_count": 190,
   "metadata": {},
   "outputs": [
    {
     "data": {
      "image/png": "[encoded data removed]",
      "text/plain": [
       "<Figure size 432x288 with 1 Axes>"
      ]
     },
     "metadata": {},
     "output_type": "display_data"
    }
   ],
   "source": [
    "import matplotlib.pyplot as plt\n",
    "#plt.bar(x,y,width = 0.35,align='center',color = 'c',alpha=0.8)\n",
    "#xticks1=list(a.values())\n",
    "plt.bar(list(area.keys()), area.values(),width=0.05,align=\"center\", color='g',alpha=0.8)\n",
    "plt.title(\"bar chart\")\n",
    "plt.xlabel('area')\n",
    "plt.ylabel(\"average prevalence rate\")\n",
    "plt.show()"
   ]
  },
  {
   "cell_type": "code",
   "execution_count": null,
   "metadata": {},
   "outputs": [],
   "source": []
  }
 ],
 "metadata": {
  "kernelspec": {
   "display_name": "Python 3",
   "language": "python",
   "name": "python3"
  },
  "language_info": {
   "codemirror_mode": {
    "name": "ipython",
    "version": 3
   },
   "file_extension": ".py",
   "mimetype": "text/x-python",
   "name": "python",
   "nbconvert_exporter": "python",
   "pygments_lexer": "ipython3",
   "version": "3.7.1"
  }
 },
 "nbformat": 4,
 "nbformat_minor": 2
}
